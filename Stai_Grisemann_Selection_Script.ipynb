{
 "cells": [
  {
   "cell_type": "markdown",
   "metadata": {},
   "source": [
    "## Phase 0: Import basic modules"
   ]
  },
  {
   "cell_type": "code",
   "execution_count": 1,
   "metadata": {},
   "outputs": [],
   "source": [
    "# Import modules\n",
    "import os\n",
    "import subprocess\n",
    "import fileinput\n",
    "from pathlib import Path\n",
    "from shutil import copyfile"
   ]
  },
  {
   "cell_type": "markdown",
   "metadata": {},
   "source": [
    "# PHASE 1: Set up workspace # \n",
    "## STEP 1: Install required programs: MAFFT, pal2nal, IQ-TREE and PAML ##"
   ]
  },
  {
   "cell_type": "markdown",
   "metadata": {},
   "source": [
    "#### MAFFT must be downloaded at https://mafft.cbrc.jp/alignment/software/ (available for macOS, Windows, and Linux)\n",
    "#### After downloading, run:"
   ]
  },
  {
   "cell_type": "code",
   "execution_count": 346,
   "metadata": {},
   "outputs": [],
   "source": [
    "from Bio.Align.Applications import MafftCommandline # Imports MafftCommandline wrapper module for MAFFT"
   ]
  },
  {
   "cell_type": "markdown",
   "metadata": {},
   "source": [
    "#### Save your pathway here:"
   ]
  },
  {
   "cell_type": "code",
   "execution_count": 347,
   "metadata": {},
   "outputs": [],
   "source": [
    "mafftfolder = Path(\"/opt/anaconda3\")     # Assigns folder for MAFFT to path variable\n",
    "MafftExec = mafftfolder / \"bin/mafft\"    # Assigns mafft executable to variable based on provided directory\n",
    "#           your subdir + MAFFT installation subdir"
   ]
  },
  {
   "cell_type": "markdown",
   "metadata": {},
   "source": [
    "#### pal2nal can be installed via bioconda or downloaded at: http://www.bork.embl.de/pal2nal/"
   ]
  },
  {
   "cell_type": "code",
   "execution_count": 229,
   "metadata": {},
   "outputs": [
    {
     "name": "stdout",
     "output_type": "stream",
     "text": [
      "Collecting package metadata (current_repodata.json): done\n",
      "Solving environment: done\n",
      "\n",
      "# All requested packages already installed.\n",
      "\n",
      "\n",
      "Note: you may need to restart the kernel to use updated packages.\n"
     ]
    }
   ],
   "source": [
    "conda install -c bioconda pal2nal # Installs pal2nal via bioconda"
   ]
  },
  {
   "cell_type": "markdown",
   "metadata": {},
   "source": [
    "#### Either way, save your pathway here:"
   ]
  },
  {
   "cell_type": "code",
   "execution_count": 348,
   "metadata": {},
   "outputs": [],
   "source": [
    "pal2nalfolder = Path(\"/opt/anaconda3/pkgs/pal2nal-14.1-pl526_1\") # Assigns folder for pal2nal to path variable\n",
    "pal2nalExec = pal2nalfolder / \"bin/pal2nal.pl\"                   # Assigns pal2nal executable to variable based on provided directory\n",
    "#               your subdir + pal2nal installation subdir"
   ]
  },
  {
   "cell_type": "markdown",
   "metadata": {},
   "source": [
    "#### IQ-TREE must be downloaded at http://www.iqtree.org/ (available for macOS, Windows, and Linux)\n",
    "#### Enter the path to your local instance of IQ-Tree in the quotes below:\n",
    "##### (If you did not install IQ-TREE in your working directory as I did, remove os.getcwd() from the code below and store the full path as iqtreefolder instead.)"
   ]
  },
  {
   "cell_type": "code",
   "execution_count": 349,
   "metadata": {},
   "outputs": [],
   "source": [
    "iqtreefolder = Path(\"iqtree-1.6.12-MacOSX\")        # Assigns folder for IQ-Tree to variable\n",
    "IQExec = os.getcwd() / iqtreefolder / \"bin/iqtree\" # Assigns IQ-Tree executable to variable based on provided directory\n",
    "#  working directory + your subdir + iqtree subdir"
   ]
  },
  {
   "cell_type": "markdown",
   "metadata": {},
   "source": [
    "#### PAML must first be downloaded at http://abacus.gene.ucl.ac.uk/software/paml.html (available for MacOSX, Windows, and UNIX/Linux)\n",
    "#### Enter the path to your local instance of PAML in the quotes below:\n",
    "##### (If you did not install PAML in your working directory as I did, remove os.getcwd() from the code below and store the full path as pamlfolder instead.)"
   ]
  },
  {
   "cell_type": "code",
   "execution_count": 350,
   "metadata": {},
   "outputs": [],
   "source": [
    "pamlfolder = Path(\"paml4.8\")                            # Assigns folder for PAML to variable\n",
    "PAMLExec = os.getcwd() / pamlfolder / \"bin/codeml\"      # Assigns PAML codeml executable to variable based on provided directory\n",
    "#   working directory + your subdir + paml subdir\n",
    "PAMLcodemlCtl = os.getcwd() / pamlfolder / \"codeml.ctl\" # Assigns PAML codeml control file full path to variable based on provided directory\n",
    "#        working directory + your subdir + filename"
   ]
  },
  {
   "cell_type": "markdown",
   "metadata": {},
   "source": [
    "## STEP 2: Define datasources ##\n",
    "#### Enter the path for your local data folders in the quotes below:"
   ]
  },
  {
   "cell_type": "code",
   "execution_count": 351,
   "metadata": {},
   "outputs": [],
   "source": [
    "pepfolder = Path(\"pep_from_LegInfo\")  # Assigns folder (mine is in my working directory) containing all your peptides to variable\n",
    "pepfix = \".pep.fa\"                    # Specifies suffix for peptide files\n",
    "nucfolder = Path(\"nuc_from_LegInfo\")  # Assigns folder (mine is in my working directory) containing all your nucleotides to variable\n",
    "nucfix = \".nuc.fa\"                    # Specifies suffix for nucleotide files\n",
    "treefoldername = \"trees\"              # Specifies name for output tree folder\n",
    "codemlfoldername = \"codeml\"           # Specifies name for output codeml folder\n",
    "treefolder = Path(treefoldername)     # Assigns tree folder (mine is in my working directory) to variable\n",
    "codemlfolder = Path(codemlfoldername) # Assigns codeml folder (mine is in my working directory) to variable"
   ]
  },
  {
   "cell_type": "markdown",
   "metadata": {},
   "source": [
    "## STEP 3: Check that datasources and local processes exist: ##"
   ]
  },
  {
   "cell_type": "code",
   "execution_count": 352,
   "metadata": {},
   "outputs": [
    {
     "name": "stdout",
     "output_type": "stream",
     "text": [
      "All files and executables found, proceeding...\n"
     ]
    }
   ],
   "source": [
    "if not mafftExec.exists():                                     # Checks if MAFFT installed\n",
    "    print(\"MAFFT not found, terminating.\")                     # Reports any negative\n",
    "    exit()                                                     # Terminates\n",
    "elif not pal2nalExec.exists():                                 # Checks if pal2nal installed\n",
    "    print(\"pal2nal not found, terminating.\")                   # Reports any negative\n",
    "    exit()                                                     # Terminates\n",
    "elif not IQExec.exists():                                      # Checks if IQ-TREE installed\n",
    "    print(\"IQ-TREE not found, terminating.\")                   # Reports any negative\n",
    "    exit()                                                     # Terminates\n",
    "elif not PAMLExec.exists():                                    # Checks if PAML installed\n",
    "    print(\"PAML not found, terminating.\")                      # Reports any negative\n",
    "    exit()                                                     # Terminates\n",
    "elif not pepfolder.exists():                                   # Checks if peptide files specified\n",
    "    print(\"Peptide folder not found, terminating.\")            # Reports any negative\n",
    "    exit()                                                     # Terminates\n",
    "elif not nucfolder.exists():                                   # Checks if nucleotide files specified\n",
    "    print(\"Nucleotide folder not found, terminating.\")         # Reports any negative\n",
    "    exit()                                                     # Terminates\n",
    "else:                                                          # \n",
    "    print(\"All files and executables found, proceeding...\")    # Reports check passing\n",
    "    \n",
    "if not treefolder.exists():                                    # Checks if tree folder specified\n",
    "    os.mkdir(treefoldername)                                   # Generates tree folder if not\n",
    "    treefolder = Path(treefoldername)                          # Assigns just-generated tree folder to variable above\n",
    "if not codemlfolder.exists():                                  # Checks if codeml folder specified\n",
    "    os.mkdir(codemlfoldername)                                 # Generates codeml folder if not\n",
    "    codemlfolder = Path(codemlfoldername)                      # Assigns just-generated codeml folder to variable above"
   ]
  },
  {
   "cell_type": "markdown",
   "metadata": {},
   "source": [
    "# PHASE 2: Do alignments #\n",
    "## STEP 1: Align protein sequences with MAFFT ##\n",
    "##### (Note: you can modify the alignment output suffix at: alnfix = \".[enter suffix here]\")"
   ]
  },
  {
   "cell_type": "code",
   "execution_count": 353,
   "metadata": {},
   "outputs": [],
   "source": [
    "# Loop over all files in peptide folder\n",
    "for filename in os.listdir(pepfolder):                # specify the peptide folder as the one to look for files in\n",
    "    if filename.endswith(pepfix):                     # make sure that only peptide fastas are used\n",
    "        \n",
    "        infile = pepfolder / filename                 # specify full input peptide fasta path\n",
    "        alnfix = \".aligned\"                           # specify suffix for output\n",
    "        outfile = pepfolder / (filename + alnfix)     # generate output peptide alignment path\n",
    "        \n",
    "        mafft_cline = MafftCommandline(input=infile)  # generate mafft command\n",
    "        stdout, stderr = mafft_cline()                # run mafft command, save to stdout & stderr\n",
    "        \n",
    "        with open(outfile, \"w\") as handle:            # specify output file path as save destination\n",
    "            handle.write(stdout)                      # save stdout to output file path\n",
    "        continue\n",
    "    else:\n",
    "        continue"
   ]
  },
  {
   "cell_type": "markdown",
   "metadata": {},
   "source": [
    "## STEP 2: Align codon sequences to protein alignments with pal2nal ##"
   ]
  },
  {
   "cell_type": "code",
   "execution_count": 354,
   "metadata": {},
   "outputs": [],
   "source": [
    "# Store alignment suffix as a variable\n",
    "pepalnfix = (pepfix + alnfix)\n",
    "\n",
    "# Loop over all files in peptide folder\n",
    "for filename in os.listdir(pepfolder):                # specify the peptide folder as the one to look for files in\n",
    "    if filename.endswith(pepalnfix):                  # make sure that only peptide alignments are used\n",
    "        \n",
    "        nucname = filename.replace(pepalnfix, nucfix) # generate the basename of peptide alignment's corresponding nucleotide fasta\n",
    "        pepfile = pepfolder / filename                # specify full input peptide alignment path\n",
    "        nucfile = nucfolder / nucname                 # specify full input nucleotide fasta path\n",
    "        outfile = nucfolder / (nucname + alnfix)      # specify output nucleotide alignment path\n",
    "        \n",
    "        stdout = subprocess.run([\"perl\", str(pal2nalExec), str(pepfile), str(nucfile), \"-nogap\", \"-output\", \"fasta\"], capture_output=True).stdout.decode(\"utf-8\")\n",
    "                                                      # generate and run command, save as stdout\n",
    "                #          COMMAND CONTEXT STRUCTURE: #\n",
    "                # subprocess.run(...)                 # This part tells python it's going to run some command-line-style command\n",
    "                # ([command], ...)                    # This part specifies the command as a list of arguments\n",
    "                # (..., capture_output=True)          # This part stores the output as bytes in the stdout built-in field of the subprocess module\n",
    "                # ...(...).stdout...                  # This part retrieves that byte output from subprocess' stdout field\n",
    "                # ...(...)...decode(\"utf-8\")          # This part decodes the byte output into a string\n",
    "                # stdout = subprocess.run(...)...     # This part stores that string as a python variable\n",
    "                #                  COMMAND STRUCTURE: #\n",
    "                # \"perl\"                              # This part tells python it's going to be running perl\n",
    "                # str(pal2nalExec)                    # This part passes the string name of the pal2nal exectauble path as an arg to perl\n",
    "                # str(pepfile)                        # This part passes the string name of the current peptide alignment file as an arg to pal2nal\n",
    "                # str(nucfile)                        # This part passes the string name of the current nucleotide fasta file as an arg to pal2nal\n",
    "                # \"-nogap\"                            # This part passes the option -nogap to the pal2nal executable as specified in the paper,\n",
    "                #                                     #     in order to remove all gapped positions from the resulting codon alignment\n",
    "                # \"-output\", \"fasta\"                  # This part specifies fasta format for the output\n",
    "            \n",
    "        with open(outfile, \"w\") as handle:            # specify output file path as save destination\n",
    "            handle.write(stdout)                      # save stdout to output file path\n",
    "\n",
    "# UNCOMMENT the BELOW LINES to ERROR-CHECK\n",
    "# pal2nal can be tricky\n",
    "#        outerr = nucfolder / (nucname + \".err\")\n",
    "#        stderr = subprocess.run([\"perl\", str(pal2nalExec), str(pepfile), str(nucfile), \"-nogap\", \"-output\", \"fasta\"], capture_output=True).stderr.decode(\"utf-8\")\n",
    "#        with open(outerr, \"w\") as handle:             # specify error file path as save destination\n",
    "#            handle.write(stderr)                      # save stderr to output file path\n",
    "            \n",
    "        continue\n",
    "    else:\n",
    "        continue"
   ]
  },
  {
   "cell_type": "markdown",
   "metadata": {},
   "source": [
    "## STEP 3: Run codon alignments in IQ-TREE \n",
    "### Subject to maximum likelihood analysis with 10,000 Ultrafast bootstrap replicates\n",
    "##### (Note: you can modify the tree output suffix at: treefix = \".[enter suffix here]\")"
   ]
  },
  {
   "cell_type": "code",
   "execution_count": 355,
   "metadata": {},
   "outputs": [],
   "source": [
    "# Store alignment suffix as a variable\n",
    "nucalnfix = (nucfix + alnfix)\n",
    "iqtrfix = \".contree\"                                 # Store IQ-TREE's internal contree suffix as variable for naming purposes\n",
    "treefix = \".tree\"\n",
    "\n",
    "# Loop over all files in nucleotide folder\n",
    "for filename in os.listdir(nucfolder):               # specify the nucleotide folder as the one to look for files in\n",
    "    if filename.endswith(nucalnfix):                 # make sure that only nucleotide alignments are used\n",
    "        \n",
    "        infile = nucfolder / filename                # specify full input nucleotide alignment path\n",
    "        iqtfile = nucfolder / (filename + iqtrfix)   # specify IQ-TREE output tree path\n",
    "        outfile = treefolder / (filename + treefix)  # specify full output tree path\n",
    "        \n",
    "        stdout = subprocess.run([str(IQExec), \"-s\", str(infile), \"-nt\", \"AUTO\", \"-m\", \"MFP\", \"-bb\", \"10000\"], capture_output=True).stdout.decode(\"utf-8\")\n",
    "                                                     # generate and run command, save as stdout\n",
    "                #         COMMAND CONTEXT STRUCTURE: #\n",
    "                # subprocess.run(...)                # This part tells python it's going to run some command-line-style command\n",
    "                # ([command], ...)                   # This part specifies the command as a list of arguments\n",
    "                # (..., capture_output=True)         # This part stores the output as bytes in the stdout built-in field of the subprocess module\n",
    "                # ...(...).stdout...                 # This part retrieves that byte output from subprocess' stdout field\n",
    "                # ...(...)...decode(\"utf-8\")         # This part decodes the byte output into a string\n",
    "                # stdout = subprocess.run(...)...    # This part stores that string as a python variable\n",
    "                #                 COMMAND STRUCTURE: # \n",
    "                # str(IQExec)                        # This part tells python it's going to be running the IQ-TREE executable\n",
    "                # \"-s\", str(infile)                  # This part passes option -s and the string name of the input file as args to IQ-TREE\n",
    "                # \"-m ...\"                           # This part passes option -m to specify which substitution model will be used for the tree\n",
    "                # \"... MFP ...\"                      # This part specifies using ModelFinder to determine the best-fit model, as in the paper\n",
    "                # \"... -bb 10000\"                    # This part passes option -bb to specify the 10,000 Ultrafast bootstrap replicates should \n",
    "                #                                    #     be done, as specified in the paper\n",
    "                \n",
    "                # IQ-TREE takes care of saving the files, saves them in the same location as the input file\n",
    "        \n",
    "        copyfile(iqtfile, outfile)                   # This part copies the output file that IQ-TREE generates to your tree folder for analysis\n",
    "        \n",
    "        continue\n",
    "    else:\n",
    "        continue"
   ]
  },
  {
   "cell_type": "markdown",
   "metadata": {},
   "source": [
    "## STEP 4: Control to fit the evolutionary frame of species\n",
    "### No procedures were given for this step in the paper. \n",
    "##### Given the sensitivity of this analysis to rooting, manual rerooting seems likeliest, and this is what I did.\n",
    "#### If in a later day validated procedures exist for rooting a gene tree with respect to known species trees, these should be used here."
   ]
  },
  {
   "cell_type": "code",
   "execution_count": 356,
   "metadata": {},
   "outputs": [],
   "source": [
    "# Store rooting suffix as a variable\n",
    "rootfix = \".rooted\""
   ]
  },
  {
   "cell_type": "markdown",
   "metadata": {},
   "source": [
    "## STEP 5: Test branch for selection \n",
    "### Test uses the branch-site model A in codeml in PAML"
   ]
  },
  {
   "cell_type": "code",
   "execution_count": 358,
   "metadata": {},
   "outputs": [],
   "source": [
    "# Store rooted tree suffix as a variable\n",
    "roottreefix = (nucalnfix + treefix + rootfix)           \n",
    "\n",
    "outfix = \".txt\"                                         # assigns output prefix to variable\n",
    "\n",
    "# Loop over all files in tree folder\n",
    "for filename in os.listdir(treefolder):                 # specify the tree folder as the one to look for files in\n",
    "    if filename.endswith(roottreefix):                  # make sure that only rooted trees are used\n",
    "        \n",
    "        nucname = filename.replace(roottreefix, nucalnfix)   # generate the basename of peptide alignment's corresponding nucleotide fasta\n",
    "        outname = (filename + outfix)                        # generate output filename\n",
    "        seqfile = nucfolder / nucname                        # get path of sequence file\n",
    "        treefile = treefolder / filename                     # get path of tree file\n",
    "        outfileNull = codemlfolder / (outname + \".null\")     # get path of null hypothesis output file\n",
    "        outfileAlt = codemlfolder / (outname + \".alt\")       # get path of alt hypothesis output file\n",
    "        \n",
    "        codemlCtlNull = codemlfolder / (codemlCtl + \".null\") # generate codeml control file names for our null hypothesis as per paper\n",
    "        codemlCtlAlt = codemlfolder / (codemlCtl + \".alt\")   # generate codeml control file names for our alt hypothesis as per paper\n",
    "        \n",
    "        copyfile(PAMLcodemlCtl, codemlCtlNull)               # Adds fresh copies of the PAML codeml control file to the working directory\n",
    "        copyfile(PAMLcodemlCtl, codemlCtlAlt)                #     so that editors below can function correctly for the current tree file\n",
    "        \n",
    "        \n",
    "        ############################################################## SETUP for CODEML CONTROL FILE for NULL HYPOTHESIS\n",
    "        with fileinput.FileInput(codemlCtlNull, inplace=True) as file:        # Specifies null hypothesis control file for editing\n",
    "            for line in file:                                                 # iterates over lines\n",
    "                print(line.replace(\"stewart.aa\", str(seqfile)), end='')       # Replaces seqfile field with peptide sequence file path\n",
    "        with fileinput.FileInput(codemlCtlNull, inplace=True) as file:        # Specifies null hypothesis control file for editing\n",
    "            for line in file:                                                 # iterates over lines\n",
    "                print(line.replace(\"stewart.trees\", str(treefile)), end='')   # Replaces treefile field with tree file path\n",
    "        with fileinput.FileInput(codemlCtlNull, inplace=True) as file:        # Specifies null hypothesis control file for editing \n",
    "            for line in file:                                                 # iterates over lines\n",
    "                print(line.replace(\"mlc\", str(outfileNull)), end='')          # Replaces outfile field with output file path\n",
    "        with fileinput.FileInput(codemlCtlNull, inplace=True) as file:        # Specifies null hypothesis control file for editing \n",
    "            for line in file:                                                 # iterates over lines\n",
    "                print(line.replace(\"seqtype = 2\", \"seqtype = 1\"), end='')     # Replaces seqtype field with codon numeral as inferred from error\n",
    "        with fileinput.FileInput(codemlCtlNull, inplace=True) as file:        # Specifies null hypothesis control file for editing \n",
    "            for line in file:                                                 # iterates over lines\n",
    "                print(line.replace(\"NSsites = 0\", \"NSsites = 2\"), end='')     # Changes NSsites field to value specified in paper\n",
    "        with fileinput.FileInput(codemlCtlNull, inplace=True) as file:        # Specifies null hypothesis control file for editing \n",
    "            for line in file:                                                 # iterates over lines\n",
    "                print(line.replace(\"fix_omega = 0\", \"fix_omega = 1\"), end='') # Changes fix_omega field to value specified in paper\n",
    "        with fileinput.FileInput(codemlCtlNull, inplace=True) as file:        # Specifies null hypothesis control file for editing \n",
    "            for line in file:                                                 # iterates over lines\n",
    "                print(line.replace(\"omega = .4\", \"omega = 1\"), end='')        # Changes omega field to value specified in paper\n",
    "                \n",
    "        ############################################################## SETUP for CODEML CONTROL FILE for ALT HYPOTHESIS\n",
    "        with fileinput.FileInput(codemlCtlAlt, inplace=True) as file:         # Specifies alt hypothesis control file for editing\n",
    "            for line in file:                                                 # iterates over lines\n",
    "                print(line.replace(\"stewart.aa\", str(seqfile)), end='')       # Replaces seqfile field with peptide sequence file path\n",
    "        with fileinput.FileInput(codemlCtlAlt, inplace=True) as file:         # Specifies alt hypothesis control file for editing\n",
    "            for line in file:                                                 # iterates over lines\n",
    "                print(line.replace(\"stewart.trees\", str(treefile)), end='')   # Replaces treefile field with tree file path\n",
    "        with fileinput.FileInput(codemlCtlAlt, inplace=True) as file:         # Specifies alt hypothesis control file for editing \n",
    "            for line in file:                                                 # iterates over lines\n",
    "                print(line.replace(\"mlc\", str(outfileAlt)), end='')           # Replaces outfile field with output file path\n",
    "        with fileinput.FileInput(codemlCtlAlt, inplace=True) as file:         # Specifies null hypothesis control file for editing \n",
    "            for line in file:                                                 # iterates over lines\n",
    "                print(line.replace(\"seqtype = 2\", \"seqtype = 1\"), end='')     # Replaces seqtype field with codon numeral as inferred from paper\n",
    "        with fileinput.FileInput(codemlCtlAlt, inplace=True) as file:         # Specifies alt hypothesis control file for editing \n",
    "            for line in file:                                                 # iterates over lines\n",
    "                print(line.replace(\"NSsites = 0\", \"NSsites = 2\"), end='')     # Changes NSsites field to value specified in paper\n",
    "        with fileinput.FileInput(codemlCtlAlt, inplace=True) as file:         # Specifies alt hypothesis control file for editing \n",
    "            for line in file:                                                 # iterates over lines\n",
    "                print(line.replace(\"fix_omega = 0\", \"fix_omega = 0\"), end='') # Changes fix_omega field to value specified in paper\n",
    "        with fileinput.FileInput(codemlCtlAlt, inplace=True) as file:         # Specifies alt hypothesis control file for editing \n",
    "            for line in file:                                                 # iterates over lines\n",
    "                print(line.replace(\"omega = .4\", \"omega = 1.5\"), end='')      # Changes omega field to value specified in paper\n",
    "        \n",
    "        \n",
    "        ############################### RUN COMMAND for CODEML for NULL HYPOTHESIS\n",
    "        copyfile(codemlCtlNull, codemlCtl)           # This part copies in the correct modified control file into the control file name \n",
    "                #                                    #     expected by codeml, the one for the null hypothesis\n",
    "        stdout = subprocess.run([str(PAMLExec)], capture_output=True).stdout.decode(\"utf-8\")\n",
    "                                                     # generate and run command, save as stdout\n",
    "                #         COMMAND CONTEXT STRUCTURE: #\n",
    "                # subprocess.run(...)                # This part tells python it's going to run some command-line-style command\n",
    "                # ([command], ...)                   # This part specifies the command as a list of arguments\n",
    "                # (..., capture_output=True)         # This part stores the output as bytes in the stdout built-in field of the subprocess module\n",
    "                # ...(...).stdout...                 # This part retrieves that byte output from subprocess' stdout field\n",
    "                # ...(...)...decode(\"utf-8\")         # This part decodes the byte output into a string\n",
    "                # stdout = subprocess.run(...)...    # This part stores that string as a python variable\n",
    "                #                 COMMAND STRUCTURE: # \n",
    "                # str(PAMLExec)                      # This part tells python it's going to be running the IQ-TREE executable\n",
    "                #                                    #     which is all that's needed after changing the control file\n",
    "                \n",
    "                # PAML takes care of saving the output file\n",
    "\n",
    "# UNCOMMENT the BELOW LINES to ERROR-CHECK\n",
    "# PAML can be tricky\n",
    "#        outerr = codemlfolder / (outname + \".null.err\")\n",
    "#        stderr = subprocess.run([str(PAMLExec)], capture_output=True).stderr.decode(\"utf-8\")\n",
    "#        with open(outerr, \"w\") as handle:             # specify error file path as save destination\n",
    "#            handle.write(stderr)                      # save stderr to output file path\n",
    "      \n",
    "    \n",
    "        ############################### RUN COMMAND for CODEML for ALT HYPOTHESIS\n",
    "        copyfile(codemlCtlAlt, codemlCtl)            # This part copies in the correct modified control file into the control file name \n",
    "                #                                    #     expected by codeml, the one for the alt hypothesis\n",
    "        stdout = subprocess.run([str(PAMLExec)], capture_output=True).stdout.decode(\"utf-8\")\n",
    "                                                     # generate and run command, save as stdout\n",
    "                #         COMMAND CONTEXT STRUCTURE: #\n",
    "                # subprocess.run(...)                # This part tells python it's going to run some command-line-style command\n",
    "                # ([command], ...)                   # This part specifies the command as a list of arguments\n",
    "                # (..., capture_output=True)         # This part stores the output as bytes in the stdout built-in field of the subprocess module\n",
    "                # ...(...).stdout...                 # This part retrieves that byte output from subprocess' stdout field\n",
    "                # ...(...)...decode(\"utf-8\")         # This part decodes the byte output into a string\n",
    "                # stdout = subprocess.run(...)...    # This part stores that string as a python variable\n",
    "                #                 COMMAND STRUCTURE: # \n",
    "                # str(PAMLExec)                      # This part tells python it's going to be running the IQ-TREE executable\n",
    "                #                                    #     which is all that's needed after changing the control file\n",
    "                \n",
    "                # PAML takes care of saving the output file\n",
    "                \n",
    "# UNCOMMENT the BELOW LINES to ERROR-CHECK\n",
    "# PAML can be tricky                \n",
    "#        outerr = codemlfolder / (outname + \".alt.err\")\n",
    "#        stderr = subprocess.run([str(PAMLExec)], capture_output=True).stderr.decode(\"utf-8\")\n",
    "#        with open(outerr, \"w\") as handle:             # specify error file path as save destination\n",
    "#            handle.write(stderr)                      # save stderr to output file path \n",
    "\n",
    "        continue\n",
    "    else:\n",
    "        continue\n",
    "\n",
    "# Workspace cleanup after codeml\n",
    "os.remove(\"rst\")\n",
    "os.remove(\"rst1\")\n",
    "os.remove(\"rub\")\n",
    "os.remove(\"codeml.ctl\")\n",
    "os.remove(codemlCtlNull)\n",
    "os.remove(codemlCtlAlt)\n",
    "os.remove(\"2NG.dN\")\n",
    "os.remove(\"2NG.dS\")\n",
    "os.remove(\"2NG.t\")\n",
    "os.remove(\"4fold.nuc\")"
   ]
  },
  {
   "cell_type": "code",
   "execution_count": null,
   "metadata": {},
   "outputs": [],
   "source": []
  }
 ],
 "metadata": {
  "kernelspec": {
   "display_name": "Python 3",
   "language": "python",
   "name": "python3"
  },
  "language_info": {
   "codemirror_mode": {
    "name": "ipython",
    "version": 3
   },
   "file_extension": ".py",
   "mimetype": "text/x-python",
   "name": "python",
   "nbconvert_exporter": "python",
   "pygments_lexer": "ipython3",
   "version": "3.7.5"
  }
 },
 "nbformat": 4,
 "nbformat_minor": 4
}
